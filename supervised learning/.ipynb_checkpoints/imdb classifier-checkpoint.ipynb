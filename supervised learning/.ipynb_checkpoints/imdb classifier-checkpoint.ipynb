{
 "cells": [
  {
   "cell_type": "code",
   "execution_count": null,
   "metadata": {},
   "outputs": [],
   "source": [
    "import time, sys\n",
    "\n",
    "import matplotlib.pyplot as plt\n",
    "\n",
    "import numpy as np\n",
    "\n",
    "import tensorflow as tf\n",
    "\n",
    "from sklearn.datasets import load_imdb\n",
    "from sklearn.model_selection import train_test_split"
   ]
  },
  {
   "cell_type": "markdown",
   "metadata": {},
   "source": [
    "# Prepare the data"
   ]
  },
  {
   "cell_type": "code",
   "execution_count": null,
   "metadata": {},
   "outputs": [],
   "source": [
    "num_classes = 3 # 3 classes\n",
    "\n",
    "# Data split between train and test sets\n",
    "imdb = load_imdb()\n",
    "sys.exit()\n",
    "x_train, x_test, y_train, y_test = train_test_split(iris.data, iris.target)\n",
    "#x_train, x_test, y_train, y_test = train_test_split(iris.data, iris.target, test_size=0.3, stratify=iris.target, random_state=42)\n",
    "\n",
    "print('Original x_train shape:', x_train.shape)\n",
    "print('Original y_train shape:', y_train.shape)\n",
    "print('Original x_test shape:', x_test.shape)\n",
    "print('Original y_test shape:', y_test.shape)\n",
    "\n",
    "input_shape = x_train[0].shape # Input image dimensions\n",
    "\n",
    "# Convert class vectors to binary class matrices\n",
    "y_train = tf.keras.utils.to_categorical(y_train, num_classes)\n",
    "y_test  = tf.keras.utils.to_categorical(y_test, num_classes)\n",
    "\n",
    "print('\\nInput shape: ', input_shape)\n",
    "print('\\n', x_train.shape[0], 'train samples')\n",
    "print(x_test.shape[0], 'test samples')\n",
    "print('\\nOne hot enconding: {}'.format(y_train[0, :]))"
   ]
  },
  {
   "cell_type": "markdown",
   "metadata": {},
   "source": [
    "# Build the model"
   ]
  },
  {
   "cell_type": "code",
   "execution_count": 5,
   "metadata": {},
   "outputs": [
    {
     "name": "stdout",
     "output_type": "stream",
     "text": [
      "Model: \"sequential\"\n",
      "_________________________________________________________________\n",
      "Layer (type)                 Output Shape              Param #   \n",
      "=================================================================\n",
      "dense (Dense)                (None, 1024)              5120      \n",
      "_________________________________________________________________\n",
      "dense_1 (Dense)              (None, 3)                 3075      \n",
      "=================================================================\n",
      "Total params: 8,195\n",
      "Trainable params: 8,195\n",
      "Non-trainable params: 0\n",
      "_________________________________________________________________\n"
     ]
    }
   ],
   "source": [
    "model = tf.keras.Sequential()\n",
    "#model.add(tf.layers.Dense(512, activation='relu', input_shape=(4,)))\n",
    "model.add(tf.keras.layers.Dense(1024, activation='relu', input_shape=input_shape))\n",
    "model.add(tf.keras.layers.Dense(num_classes, activation='softmax')) # One Neuron for each class\n",
    "model.summary()"
   ]
  },
  {
   "cell_type": "markdown",
   "metadata": {},
   "source": [
    "# Train the model"
   ]
  },
  {
   "cell_type": "code",
   "execution_count": 6,
   "metadata": {},
   "outputs": [
    {
     "name": "stdout",
     "output_type": "stream",
     "text": [
      "CPU times: user 5 µs, sys: 0 ns, total: 5 µs\n",
      "Wall time: 8.82 µs\n",
      "Train on 112 samples\n",
      "Epoch 1/30\n",
      "112/112 [==============================] - 2s 16ms/sample - loss: 1.0958 - accuracy: 0.3661\n",
      "Epoch 2/30\n",
      "112/112 [==============================] - 0s 402us/sample - loss: 1.0209 - accuracy: 0.5536\n",
      "Epoch 3/30\n",
      "112/112 [==============================] - 0s 343us/sample - loss: 0.9633 - accuracy: 0.6339\n",
      "Epoch 4/30\n",
      "112/112 [==============================] - 0s 138us/sample - loss: 0.9075 - accuracy: 0.6875\n",
      "Epoch 5/30\n",
      "112/112 [==============================] - 0s 101us/sample - loss: 0.8540 - accuracy: 0.6875\n",
      "Epoch 6/30\n",
      "112/112 [==============================] - 0s 122us/sample - loss: 0.8054 - accuracy: 0.6875\n",
      "Epoch 7/30\n",
      "112/112 [==============================] - 0s 142us/sample - loss: 0.7632 - accuracy: 0.6875\n",
      "Epoch 8/30\n",
      "112/112 [==============================] - 0s 188us/sample - loss: 0.7262 - accuracy: 0.6964\n",
      "Epoch 9/30\n",
      "112/112 [==============================] - 0s 423us/sample - loss: 0.6929 - accuracy: 0.7143\n",
      "Epoch 10/30\n",
      "112/112 [==============================] - 0s 272us/sample - loss: 0.6622 - accuracy: 0.7679\n",
      "Epoch 11/30\n",
      "112/112 [==============================] - 0s 233us/sample - loss: 0.6336 - accuracy: 0.8125\n",
      "Epoch 12/30\n",
      "112/112 [==============================] - 0s 211us/sample - loss: 0.6075 - accuracy: 0.8125\n",
      "Epoch 13/30\n",
      "112/112 [==============================] - 0s 166us/sample - loss: 0.5841 - accuracy: 0.8125\n",
      "Epoch 14/30\n",
      "112/112 [==============================] - 0s 144us/sample - loss: 0.5635 - accuracy: 0.8125\n",
      "Epoch 15/30\n",
      "112/112 [==============================] - 0s 205us/sample - loss: 0.5449 - accuracy: 0.8125\n",
      "Epoch 16/30\n",
      "112/112 [==============================] - 0s 369us/sample - loss: 0.5276 - accuracy: 0.8125\n",
      "Epoch 17/30\n",
      "112/112 [==============================] - 0s 217us/sample - loss: 0.5114 - accuracy: 0.8214\n",
      "Epoch 18/30\n",
      "112/112 [==============================] - 0s 214us/sample - loss: 0.4959 - accuracy: 0.8571\n",
      "Epoch 19/30\n",
      "112/112 [==============================] - 0s 180us/sample - loss: 0.4812 - accuracy: 0.8929\n",
      "Epoch 20/30\n",
      "112/112 [==============================] - 0s 183us/sample - loss: 0.4674 - accuracy: 0.9107\n",
      "Epoch 21/30\n",
      "112/112 [==============================] - 0s 290us/sample - loss: 0.4546 - accuracy: 0.9286\n",
      "Epoch 22/30\n",
      "112/112 [==============================] - 0s 180us/sample - loss: 0.4427 - accuracy: 0.9286\n",
      "Epoch 23/30\n",
      "112/112 [==============================] - 0s 113us/sample - loss: 0.4315 - accuracy: 0.9286\n",
      "Epoch 24/30\n",
      "112/112 [==============================] - 0s 172us/sample - loss: 0.4208 - accuracy: 0.9286\n",
      "Epoch 25/30\n",
      "112/112 [==============================] - 0s 183us/sample - loss: 0.4105 - accuracy: 0.9554\n",
      "Epoch 26/30\n",
      "112/112 [==============================] - 0s 109us/sample - loss: 0.4005 - accuracy: 0.9732\n",
      "Epoch 27/30\n",
      "112/112 [==============================] - 0s 148us/sample - loss: 0.3908 - accuracy: 0.9821\n",
      "Epoch 28/30\n",
      "112/112 [==============================] - 0s 120us/sample - loss: 0.3815 - accuracy: 0.9821\n",
      "Epoch 29/30\n",
      "112/112 [==============================] - 0s 135us/sample - loss: 0.3725 - accuracy: 0.9821\n",
      "Epoch 30/30\n",
      "112/112 [==============================] - 0s 182us/sample - loss: 0.3638 - accuracy: 0.9821\n"
     ]
    },
    {
     "data": {
      "text/plain": [
       "<tensorflow.python.keras.callbacks.History at 0x7f77d40a04d0>"
      ]
     },
     "execution_count": 6,
     "metadata": {},
     "output_type": "execute_result"
    }
   ],
   "source": [
    "%time\n",
    "\n",
    "batch_size = 128\n",
    "epochs     = 30\n",
    "\n",
    "model.compile(loss='categorical_crossentropy', optimizer='adam', metrics=['accuracy'])\n",
    "model.fit(x_train, y_train, batch_size=batch_size, epochs=epochs)"
   ]
  },
  {
   "cell_type": "markdown",
   "metadata": {},
   "source": [
    "# Evaluate the trained model"
   ]
  },
  {
   "cell_type": "code",
   "execution_count": 7,
   "metadata": {},
   "outputs": [
    {
     "name": "stdout",
     "output_type": "stream",
     "text": [
      "Test loss: 0.44585730998139633\n",
      "Test accuracy: 0.8947368\n"
     ]
    }
   ],
   "source": [
    "score = model.evaluate(x_test, y_test, verbose=0)\n",
    "print('Test loss:', score[0])\n",
    "print('Test accuracy:', score[1])"
   ]
  }
 ],
 "metadata": {
  "kernelspec": {
   "display_name": "Python 3",
   "language": "python",
   "name": "python3"
  },
  "language_info": {
   "codemirror_mode": {
    "name": "ipython",
    "version": 3
   },
   "file_extension": ".py",
   "mimetype": "text/x-python",
   "name": "python",
   "nbconvert_exporter": "python",
   "pygments_lexer": "ipython3",
   "version": "3.7.4"
  }
 },
 "nbformat": 4,
 "nbformat_minor": 2
}

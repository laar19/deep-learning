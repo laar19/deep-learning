{
 "cells": [
  {
   "cell_type": "code",
   "execution_count": 1,
   "metadata": {},
   "outputs": [],
   "source": [
    "import time, sys\n",
    "\n",
    "import matplotlib.pyplot as plt\n",
    "\n",
    "import numpy as np\n",
    "\n",
    "import tensorflow as tf\n",
    "\n",
    "from sklearn.datasets import load_digits\n",
    "from sklearn.model_selection import train_test_split"
   ]
  },
  {
   "cell_type": "markdown",
   "metadata": {},
   "source": [
    "# Prepare the data"
   ]
  },
  {
   "cell_type": "code",
   "execution_count": 2,
   "metadata": {},
   "outputs": [
    {
     "name": "stdout",
     "output_type": "stream",
     "text": [
      "Original x_train shape: (1347, 8, 8)\n",
      "Original y_train shape: (1347,)\n",
      "Original x_test shape: (450, 8, 8)\n",
      "Original y_test shape: (450,)\n",
      "\n",
      "Input shape:  (8, 8, 1)\n",
      "\n",
      "Reshaped x_train shape: (1347, 8, 8, 1)\n",
      "Reshaped y_train shape: (1347, 10)\n",
      "Reshaped x_test shape: (450, 8, 8, 1)\n",
      "Reshaped y_test shape: (450, 10)\n",
      "\n",
      " 1347 train samples\n",
      "450 test samples\n",
      "\n",
      "One hot enconding: [0. 0. 1. 0. 0. 0. 0. 0. 0. 0.]\n"
     ]
    }
   ],
   "source": [
    "num_classes = 10 # 10 classes, digits from 0 to 9\n",
    "\n",
    "# Data split between train and test sets\n",
    "digits = load_digits()\n",
    "x_train, x_test, y_train, y_test = train_test_split(digits.images, digits.target)\n",
    "\n",
    "print('Original x_train shape:', x_train.shape)\n",
    "print('Original y_train shape:', y_train.shape)\n",
    "print('Original x_test shape:', x_test.shape)\n",
    "print('Original y_test shape:', y_test.shape)\n",
    "\n",
    "# Reshape\n",
    "x_train = np.expand_dims(x_train, -1)\n",
    "x_test  = np.expand_dims(x_test, -1)\n",
    "\n",
    "input_shape = x_train[0].shape # Input image dimensions\n",
    "\n",
    "# Convert class vectors to binary class matrices\n",
    "y_train = tf.keras.utils.to_categorical(y_train, num_classes)\n",
    "y_test  = tf.keras.utils.to_categorical(y_test, num_classes)\n",
    "\n",
    "print('\\nInput shape: ', input_shape)\n",
    "print('\\nReshaped x_train shape:', x_train.shape)\n",
    "print('Reshaped y_train shape:', y_train.shape)\n",
    "print('Reshaped x_test shape:', x_test.shape)\n",
    "print('Reshaped y_test shape:', y_test.shape)\n",
    "print('\\n', x_train.shape[0], 'train samples')\n",
    "print(x_test.shape[0], 'test samples')\n",
    "print('\\nOne hot enconding: {}'.format(y_train[0, :]))"
   ]
  },
  {
   "cell_type": "markdown",
   "metadata": {},
   "source": [
    "# Build the model"
   ]
  },
  {
   "cell_type": "code",
   "execution_count": 3,
   "metadata": {},
   "outputs": [
    {
     "name": "stdout",
     "output_type": "stream",
     "text": [
      "Model: \"sequential\"\n",
      "_________________________________________________________________\n",
      "Layer (type)                 Output Shape              Param #   \n",
      "=================================================================\n",
      "conv2d (Conv2D)              (None, 7, 7, 32)          160       \n",
      "_________________________________________________________________\n",
      "max_pooling2d (MaxPooling2D) (None, 3, 3, 32)          0         \n",
      "_________________________________________________________________\n",
      "conv2d_1 (Conv2D)            (None, 2, 2, 64)          8256      \n",
      "_________________________________________________________________\n",
      "max_pooling2d_1 (MaxPooling2 (None, 1, 1, 64)          0         \n",
      "_________________________________________________________________\n",
      "flatten (Flatten)            (None, 64)                0         \n",
      "_________________________________________________________________\n",
      "dropout (Dropout)            (None, 64)                0         \n",
      "_________________________________________________________________\n",
      "dense (Dense)                (None, 10)                650       \n",
      "=================================================================\n",
      "Total params: 9,066\n",
      "Trainable params: 9,066\n",
      "Non-trainable params: 0\n",
      "_________________________________________________________________\n"
     ]
    }
   ],
   "source": [
    "model = tf.keras.Sequential()\n",
    "model.add(tf.keras.Input(shape=input_shape))\n",
    "# 2 convolutional layers...\n",
    "model.add(tf.keras.layers.Conv2D(filters=32, kernel_size=(2, 2), activation='relu'))\n",
    "model.add(tf.keras.layers.MaxPooling2D(pool_size=(2, 2)))\n",
    "model.add(tf.keras.layers.Conv2D(filters=64, kernel_size=(2, 2), activation='relu'))\n",
    "model.add(tf.keras.layers.MaxPooling2D(pool_size=(2, 2)))\n",
    "model.add(tf.keras.layers.Flatten())\n",
    "model.add(tf.keras.layers.Dropout(0.5))\n",
    "# ...and 1 fully connected layers\n",
    "model.add(tf.keras.layers.Dense(num_classes, activation='softmax')) # One Neuron for each class\n",
    "model.summary()"
   ]
  },
  {
   "cell_type": "markdown",
   "metadata": {},
   "source": [
    "# Train the model"
   ]
  },
  {
   "cell_type": "code",
   "execution_count": 4,
   "metadata": {},
   "outputs": [
    {
     "name": "stdout",
     "output_type": "stream",
     "text": [
      "CPU times: user 5 µs, sys: 0 ns, total: 5 µs\n",
      "Wall time: 11 µs\n",
      "Train on 1212 samples, validate on 135 samples\n",
      "Epoch 1/25\n",
      "1212/1212 [==============================] - 4s 3ms/sample - loss: 3.5450 - accuracy: 0.1180 - val_loss: 1.9872 - val_accuracy: 0.2889\n",
      "Epoch 2/25\n",
      "1212/1212 [==============================] - 1s 665us/sample - loss: 2.2972 - accuracy: 0.1840 - val_loss: 1.7985 - val_accuracy: 0.4963\n",
      "Epoch 3/25\n",
      "1212/1212 [==============================] - 1s 606us/sample - loss: 1.9248 - accuracy: 0.3309 - val_loss: 1.6465 - val_accuracy: 0.6222\n",
      "Epoch 4/25\n",
      "1212/1212 [==============================] - 1s 635us/sample - loss: 1.7833 - accuracy: 0.3853 - val_loss: 1.4449 - val_accuracy: 0.6963\n",
      "Epoch 5/25\n",
      "1212/1212 [==============================] - 1s 706us/sample - loss: 1.6327 - accuracy: 0.4571 - val_loss: 1.2611 - val_accuracy: 0.7778\n",
      "Epoch 6/25\n",
      "1212/1212 [==============================] - 1s 762us/sample - loss: 1.4764 - accuracy: 0.5248 - val_loss: 1.1387 - val_accuracy: 0.7852\n",
      "Epoch 7/25\n",
      "1212/1212 [==============================] - 1s 736us/sample - loss: 1.3896 - accuracy: 0.5421 - val_loss: 1.0088 - val_accuracy: 0.8000\n",
      "Epoch 8/25\n",
      "1212/1212 [==============================] - 1s 654us/sample - loss: 1.2544 - accuracy: 0.5932 - val_loss: 0.9074 - val_accuracy: 0.8519\n",
      "Epoch 9/25\n",
      "1212/1212 [==============================] - 1s 609us/sample - loss: 1.2090 - accuracy: 0.6023 - val_loss: 0.8157 - val_accuracy: 0.8667\n",
      "Epoch 10/25\n",
      "1212/1212 [==============================] - 1s 765us/sample - loss: 1.1264 - accuracy: 0.6386 - val_loss: 0.7501 - val_accuracy: 0.8444\n",
      "Epoch 11/25\n",
      "1212/1212 [==============================] - 1s 745us/sample - loss: 1.0692 - accuracy: 0.6716 - val_loss: 0.6869 - val_accuracy: 0.8741\n",
      "Epoch 12/25\n",
      "1212/1212 [==============================] - 1s 633us/sample - loss: 0.9841 - accuracy: 0.6931 - val_loss: 0.6238 - val_accuracy: 0.8593\n",
      "Epoch 13/25\n",
      "1212/1212 [==============================] - 1s 624us/sample - loss: 0.9670 - accuracy: 0.6964 - val_loss: 0.5917 - val_accuracy: 0.8741\n",
      "Epoch 14/25\n",
      "1212/1212 [==============================] - 1s 683us/sample - loss: 0.9074 - accuracy: 0.7162 - val_loss: 0.5632 - val_accuracy: 0.8815\n",
      "Epoch 15/25\n",
      "1212/1212 [==============================] - 1s 687us/sample - loss: 0.8476 - accuracy: 0.7335 - val_loss: 0.5020 - val_accuracy: 0.8889\n",
      "Epoch 16/25\n",
      "1212/1212 [==============================] - 1s 728us/sample - loss: 0.8194 - accuracy: 0.7483 - val_loss: 0.4857 - val_accuracy: 0.8963\n",
      "Epoch 17/25\n",
      "1212/1212 [==============================] - 1s 641us/sample - loss: 0.7989 - accuracy: 0.7517 - val_loss: 0.4736 - val_accuracy: 0.9037\n",
      "Epoch 18/25\n",
      "1212/1212 [==============================] - 1s 672us/sample - loss: 0.7544 - accuracy: 0.7616 - val_loss: 0.4348 - val_accuracy: 0.9111\n",
      "Epoch 19/25\n",
      "1212/1212 [==============================] - 1s 690us/sample - loss: 0.6693 - accuracy: 0.8045 - val_loss: 0.4101 - val_accuracy: 0.9111\n",
      "Epoch 20/25\n",
      "1212/1212 [==============================] - 1s 711us/sample - loss: 0.6838 - accuracy: 0.7797 - val_loss: 0.3975 - val_accuracy: 0.9111\n",
      "Epoch 21/25\n",
      "1212/1212 [==============================] - 1s 756us/sample - loss: 0.6383 - accuracy: 0.8003 - val_loss: 0.3765 - val_accuracy: 0.9185\n",
      "Epoch 22/25\n",
      "1212/1212 [==============================] - 1s 721us/sample - loss: 0.6379 - accuracy: 0.8020 - val_loss: 0.3744 - val_accuracy: 0.9185\n",
      "Epoch 23/25\n",
      "1212/1212 [==============================] - 1s 650us/sample - loss: 0.6247 - accuracy: 0.8020 - val_loss: 0.3598 - val_accuracy: 0.9185\n",
      "Epoch 24/25\n",
      "1212/1212 [==============================] - 1s 728us/sample - loss: 0.5775 - accuracy: 0.8251 - val_loss: 0.3384 - val_accuracy: 0.9185\n",
      "Epoch 25/25\n",
      "1212/1212 [==============================] - 1s 720us/sample - loss: 0.5704 - accuracy: 0.8300 - val_loss: 0.3261 - val_accuracy: 0.9185\n"
     ]
    },
    {
     "data": {
      "text/plain": [
       "<tensorflow.python.keras.callbacks.History at 0x7fe64a6a8550>"
      ]
     },
     "execution_count": 4,
     "metadata": {},
     "output_type": "execute_result"
    }
   ],
   "source": [
    "%time\n",
    "\n",
    "batch_size = 128\n",
    "epochs     = 25\n",
    "\n",
    "model.compile(loss='categorical_crossentropy', optimizer='adam', metrics=['accuracy'])\n",
    "model.fit(x_train, y_train, batch_size=batch_size, epochs=epochs, validation_split=0.1)"
   ]
  },
  {
   "cell_type": "markdown",
   "metadata": {},
   "source": [
    "# Evaluate the trained model"
   ]
  },
  {
   "cell_type": "code",
   "execution_count": 5,
   "metadata": {},
   "outputs": [
    {
     "name": "stdout",
     "output_type": "stream",
     "text": [
      "Test loss: 0.3089130296144221\n",
      "Test accuracy: 0.94666666\n"
     ]
    },
    {
     "data": {
      "image/png": "[encoded data removed]",
      "text/plain": [
       "<Figure size 504x504 with 16 Axes>"
      ]
     },
     "metadata": {},
     "output_type": "display_data"
    }
   ],
   "source": [
    "score = model.evaluate(x_test, y_test, verbose=0)\n",
    "print('Test loss:', score[0])\n",
    "print('Test accuracy:', score[1])\n",
    "\n",
    "results = model.predict_classes(x_test[:100])\n",
    "\n",
    "tmp = np.squeeze(x_test, axis=3)\n",
    "\n",
    "plt.figure(figsize=(7, 7))\n",
    "\n",
    "for i in range(16):\n",
    "    plt.subplot(4, 4, i+1)\n",
    "    plt.imshow(tmp[i])\n",
    "    plt.gca().get_xaxis().set_ticks([])\n",
    "    plt.gca().get_yaxis().set_ticks([])\n",
    "    plt.ylabel('Prediction = %d' % results[i], fontsize=12)"
   ]
  },
  {
   "cell_type": "code",
   "execution_count": null,
   "metadata": {},
   "outputs": [],
   "source": []
  }
 ],
 "metadata": {
  "kernelspec": {
   "display_name": "Python 3",
   "language": "python",
   "name": "python3"
  },
  "language_info": {
   "codemirror_mode": {
    "name": "ipython",
    "version": 3
   },
   "file_extension": ".py",
   "mimetype": "text/x-python",
   "name": "python",
   "nbconvert_exporter": "python",
   "pygments_lexer": "ipython3",
   "version": "3.7.4"
  }
 },
 "nbformat": 4,
 "nbformat_minor": 2
}
